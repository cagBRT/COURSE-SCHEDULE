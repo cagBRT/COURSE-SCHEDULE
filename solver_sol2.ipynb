{
  "nbformat": 4,
  "nbformat_minor": 0,
  "metadata": {
    "colab": {
      "private_outputs": true,
      "provenance": [],
      "authorship_tag": "ABX9TyModzP/B3ve94Hd7/I3opyi",
      "include_colab_link": true
    },
    "kernelspec": {
      "name": "python3",
      "display_name": "Python 3"
    },
    "language_info": {
      "name": "python"
    }
  },
  "cells": [
    {
      "cell_type": "markdown",
      "metadata": {
        "id": "view-in-github",
        "colab_type": "text"
      },
      "source": [
        "<a href=\"https://colab.research.google.com/github/cagBRT/COURSE-SCHEDULE/blob/master/solver_sol2.ipynb\" target=\"_parent\"><img src=\"https://colab.research.google.com/assets/colab-badge.svg\" alt=\"Open In Colab\"/></a>"
      ]
    },
    {
      "cell_type": "code",
      "source": [
        "import json\n",
        "from pdb import set_trace as bp"
      ],
      "metadata": {
        "id": "RWqnGek4Tp1M"
      },
      "execution_count": null,
      "outputs": []
    },
    {
      "cell_type": "code",
      "source": [
        "def getGroup(iterable, toGet):\n",
        "    for i in range(len(iterable)):\n",
        "        for j in iterable[i]:\n",
        "            if j == toGet:\n",
        "                return i\n",
        "\n",
        "def checkWord(word, checkLetters, letterGroups):\n",
        "    for letter in word:\n",
        "        if letter in checkLetters:\n",
        "            if word.count(letter) > 1:\n",
        "                return False\n",
        "            if word.index(letter) != len(word)-1:\n",
        "                lGroup = getGroup(letterGroups, letter)\n",
        "                lNGroup = getGroup(letterGroups, word[word.index(letter)+1])\n",
        "                if lGroup == lNGroup:\n",
        "                    return False\n",
        "        else:\n",
        "            return False\n",
        "    return True\n",
        "\n",
        "def checkLetters(perm, wordIndex):\n",
        "    for oneLetter in perm[wordIndex]:\n",
        "        if wordIndex+1 < len(perm):\n",
        "            for twoLetter in perm[wordIndex+1]:\n",
        "                if twoLetter == oneLetter:\n",
        "                    return False\n",
        "    return True\n",
        "\n",
        "def checkWordPair(i, j):\n",
        "    if i[-1] == j[0]:\n",
        "        for iL in i[:-1]:\n",
        "            for jL in j[1:]:\n",
        "                if iL == jL:\n",
        "                    return False\n",
        "        return True\n",
        "    return False"
      ],
      "metadata": {
        "id": "wNrWsoFMiFUt"
      },
      "execution_count": null,
      "outputs": []
    },
    {
      "cell_type": "code",
      "source": [
        "if __name__ == '__main__':\n",
        "    file = open(\"dictionary.json\", \"r\")\n",
        "    words = json.load(file)\n",
        "\n",
        "    letters = ''\n",
        "    letterGroups = [[\"e\",\"t\",\"c\"],[\"a\",\"u\",\"f\"],[\"l\",\"i\",\"r\"],[\"y\",\"m\",\"s\"]]\n",
        "    for i in letterGroups:\n",
        "        letters = letters + ''.join(str(v) for v in i)\n",
        "\n",
        "    wordSet = []\n",
        "    for word in words:\n",
        "        if len(word) > 2:\n",
        "            valid = checkWord(word, letters, letterGroups)\n",
        "            if valid:\n",
        "                wordSet.append(word)\n",
        "\n",
        "    validSolutions = []\n",
        "\n",
        "    for i in wordSet:\n",
        "        possibleSolution = [i]\n",
        "        checkAgainst = i\n",
        "        for j in wordSet:\n",
        "            validWord = True\n",
        "            if checkWordPair(checkAgainst, j):\n",
        "                usedLetters = ''.join(str(v) for v in possibleSolution)\n",
        "                for letter in j:\n",
        "                    if letter in usedLetters[:-1]:\n",
        "                        validWord = False\n",
        "                if validWord:\n",
        "                    possibleSolution.append(j)\n",
        "                    checkAgainst = j\n",
        "                    # bp()\n",
        "                    # flatSolution = list(flatten(possibleSolution))\n",
        "                    # bp()\n",
        "                    # if len(flatSolution) > 6:\n",
        "                        # bp()\n",
        "        # toRemove = []\n",
        "        # for wordOne in range(len(possibleSolution)):\n",
        "            # for wordTwo in range(len(possibleSolution)):\n",
        "                # if abs(wordOne-wordTwo) > 1:\n",
        "                    # # bp()\n",
        "                    # if not checkWordPairShared(possibleSolution[wordOne], possibleSolution[wordTwo]):\n",
        "                        # toRemove.append(wordTwo)\n",
        "                        # # possibleSolution.pop(wordTwo)\n",
        "        # for removalIndex in reversed(range(len(toRemove))):\n",
        "            # possibleSolution.pop(removalIndex)\n",
        "        validSolutions.append(possibleSolution)\n",
        "        # print(possibleSolution)\n",
        "\n",
        "    # TODO validSolutions are normal are correct at this point\n",
        "    print(\"All valid solutions: \" + str(validSolutions))\n",
        ""
      ],
      "metadata": {
        "id": "fWcJJKBJTsnq"
      },
      "execution_count": null,
      "outputs": []
    },
    {
      "cell_type": "code",
      "source": [
        "# importing the pandas package\n",
        "import pandas as pd\n",
        "\n",
        "# creating DataFrame\n",
        "df = pd.DataFrame(validSolutions, columns= ['A','B','C','D','E'])\n",
        "df"
      ],
      "metadata": {
        "id": "9VUANHZqig9D"
      },
      "execution_count": null,
      "outputs": []
    },
    {
      "cell_type": "code",
      "source": [
        "# filter out NaN values from the 'col1' column\n",
        "filtered_df = df[ df['E'].notna() ]\n",
        "print(filtered_df)"
      ],
      "metadata": {
        "id": "iAO2kJIkjuhr"
      },
      "execution_count": null,
      "outputs": []
    },
    {
      "cell_type": "code",
      "source": [
        "max_length_A = df['A'].apply(lambda x: len(x)).max()\n",
        "print(max_length_A)"
      ],
      "metadata": {
        "id": "eOhfaB_LkT7t"
      },
      "execution_count": null,
      "outputs": []
    },
    {
      "cell_type": "code",
      "source": [
        "filtered_B = df[ df['B'].notna() ]\n",
        "max_length_B = filtered_B['B'].apply(lambda x: len(x)).max()\n",
        "print(max_length_B)"
      ],
      "metadata": {
        "id": "v9QbEIHfkUBb"
      },
      "execution_count": null,
      "outputs": []
    },
    {
      "cell_type": "code",
      "source": [
        "filtered_C = df[ df['C'].notna() ]\n",
        "max_length_C = filtered_C['C'].apply(lambda x: len(x)).max()\n",
        "print(max_length_C)"
      ],
      "metadata": {
        "id": "2AS1mF-kkUGm"
      },
      "execution_count": null,
      "outputs": []
    },
    {
      "cell_type": "code",
      "source": [
        "filtered_D = df[ df['D'].notna() ]\n",
        "max_length_D = filtered_D['D'].apply(lambda x: len(x)).max()\n",
        "print(max_length_D)"
      ],
      "metadata": {
        "id": "zn8IprC6kUJc"
      },
      "execution_count": null,
      "outputs": []
    },
    {
      "cell_type": "code",
      "source": [
        "filtered_E = df[ df['E'].notna() ]\n",
        "max_length_E = filtered_E['E'].apply(lambda x: len(x)).max()\n",
        "print(max_length_E)"
      ],
      "metadata": {
        "id": "8uq-upZTkUM0"
      },
      "execution_count": null,
      "outputs": []
    },
    {
      "cell_type": "code",
      "source": [
        "df.loc[df['A'].str.len() == max_length_A]"
      ],
      "metadata": {
        "id": "0nApJbjwmpFg"
      },
      "execution_count": null,
      "outputs": []
    }
  ]
}